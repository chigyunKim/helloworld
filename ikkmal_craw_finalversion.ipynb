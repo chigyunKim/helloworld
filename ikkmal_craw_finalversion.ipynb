{
 "cells": [
  {
   "cell_type": "code",
   "execution_count": 1,
   "id": "f37cf42a",
   "metadata": {},
   "outputs": [],
   "source": [
    "import requests\n",
    "from bs4 import BeautifulSoup\n",
    "import pandas as pd\n",
    "import numpy as np\n",
    "import selenium\n",
    "from selenium import webdriver\n",
    "from webdriver_manager.chrome import ChromeDriverManager\n",
    "from selenium.webdriver.common.keys import Keys\n",
    "import time\n",
    "import csv\n",
    "from selenium.webdriver.common.by import By"
   ]
  },
  {
   "cell_type": "code",
   "execution_count": 3,
   "id": "7eab5270",
   "metadata": {},
   "outputs": [
    {
     "name": "stderr",
     "output_type": "stream",
     "text": [
      "C:\\Users\\min87\\AppData\\Local\\Temp\\ipykernel_11460\\305263374.py:1: DeprecationWarning: executable_path has been deprecated, please pass in a Service object\n",
      "  driver = webdriver.Chrome(ChromeDriverManager().install())\n"
     ]
    }
   ],
   "source": [
    "driver = webdriver.Chrome(ChromeDriverManager().install())\n",
    "\n",
    "driver.get('https://smartstore.naver.com/ikkmall')\n",
    "time.sleep(2)\n",
    "\n",
    "totalmenu = driver.find_element(By.CSS_SELECTOR,'#pc-categoryMenuWidget > div > div > div > div > div > div._1AJ8D2PjS4._3nO3wKj4-Z > div > ul._3AV7RVieRB > li._2jm5JW3D5W.type_white_gnb.YI_nVHGI_0.N\\=a\\:lca\\.all > a')\n",
    "totalmenu.click()\n",
    "time.sleep(2)\n",
    "\n",
    "search_pages = driver.find_element(By.CSS_SELECTOR, '#CategoryProducts > div._3y-z4lfyMn > div.Ii5tIcy54E > div > div.IwEWcMcLlb > div.HF5G3hnT3X > div > button')\n",
    "search_pages.click()\n",
    "\n",
    "pages80 = driver.find_element(By.CSS_SELECTOR, '#CategoryProducts > div._3y-z4lfyMn > div.Ii5tIcy54E > div > div.IwEWcMcLlb > div.HF5G3hnT3X > div > ul > li:nth-child(4) > button')\n",
    "pages80.click()\n",
    "\n",
    "time.sleep(2)\n",
    "\n",
    "csvfile = open(r'C:\\Users\\min87\\Code_by_me\\IKKmall_crawling\\IKK상품.csv', 'w', encoding='CP949', newline='')\n",
    "csvwriter = csv.writer(csvfile)\n",
    "\n",
    "for i in range(1,6):\n",
    "    gopage = driver.find_element(By.CSS_SELECTOR, '#CategoryProducts > div._1HJarNZHiI._2UJrM31-Ry > a:nth-child('+str(i+1)+')')\n",
    "    gopage.click()\n",
    "    \n",
    "    time.sleep(2)\n",
    "    \n",
    "    items = driver.find_elements(By.CSS_SELECTOR, '#CategoryProducts > ul > li')\n",
    "    \n",
    "    time.sleep(2)\n",
    "\n",
    "    child_i = 1\n",
    "\n",
    "    for item in items:\n",
    "        name = item.find_element(By.CSS_SELECTOR, '#CategoryProducts > ul > li:nth-child('+str(child_i)+') > div > a > strong').text\n",
    "        try:\n",
    "            price = item.find_element(By.CLASS_NAME,'_3a2YHGkedh').text\n",
    "            try:\n",
    "                soldout = item.find_element(By.CLASS_NAME, 'text.blind').text\n",
    "            except:\n",
    "                soldout = \"NEW또는Soldout아님\"\n",
    "        except:\n",
    "            price = \"오류!확인요망!\"\n",
    "        csvwriter.writerow([name,price,soldout])\n",
    "        child_i = child_i + 1\n",
    "\n",
    "    time.sleep(1)\n",
    "    \n",
    "csvfile.close()"
   ]
  }
 ],
 "metadata": {
  "kernelspec": {
   "display_name": "Python 3 (ipykernel)",
   "language": "python",
   "name": "python3"
  },
  "language_info": {
   "codemirror_mode": {
    "name": "ipython",
    "version": 3
   },
   "file_extension": ".py",
   "mimetype": "text/x-python",
   "name": "python",
   "nbconvert_exporter": "python",
   "pygments_lexer": "ipython3",
   "version": "3.9.13"
  }
 },
 "nbformat": 4,
 "nbformat_minor": 5
}
